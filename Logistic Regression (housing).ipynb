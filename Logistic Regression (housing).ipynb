{
 "cells": [
  {
   "cell_type": "code",
   "execution_count": 20,
   "id": "e2ff8a5b",
   "metadata": {},
   "outputs": [],
   "source": [
    "import numpy as np\n",
    "import pandas as pd\n",
    "from matplotlib import pyplot as plt\n",
    "import sklearn as sk\n",
    "from sklearn.linear_model import LinearRegression\n",
    "from sklearn.model_selection import train_test_split\n",
    "%matplotlib inline"
   ]
  },
  {
   "cell_type": "code",
   "execution_count": 21,
   "id": "3adcef2c",
   "metadata": {},
   "outputs": [],
   "source": [
    "housing = pd.read_csv('/Users/Hasan/Desktop/Housing Dataset/housing_train_update.csv') "
   ]
  },
  {
   "cell_type": "code",
   "execution_count": 22,
   "id": "4f4db2f2",
   "metadata": {},
   "outputs": [
    {
     "name": "stdout",
     "output_type": "stream",
     "text": [
      "   YrSold  SaleCondition\n",
      "0    2008              0\n",
      "1    2007              0\n",
      "2    2008              0\n",
      "3    2006              1\n",
      "4    2008              0\n"
     ]
    }
   ],
   "source": [
    "print(housing.head())"
   ]
  },
  {
   "cell_type": "code",
   "execution_count": 23,
   "id": "6bc3fbb4",
   "metadata": {},
   "outputs": [
    {
     "data": {
      "text/plain": [
       "<matplotlib.collections.PathCollection at 0x125720a90>"
      ]
     },
     "execution_count": 23,
     "metadata": {},
     "output_type": "execute_result"
    },
    {
     "data": {
      "image/png": "[encoded data removed]",
      "text/plain": [
       "<Figure size 432x288 with 1 Axes>"
      ]
     },
     "metadata": {
      "needs_background": "light"
     },
     "output_type": "display_data"
    }
   ],
   "source": [
    "plt.scatter(housing.YrSold, housing.SaleCondition, marker='+', color ='r')"
   ]
  },
  {
   "cell_type": "code",
   "execution_count": 25,
   "id": "09487396",
   "metadata": {},
   "outputs": [
    {
     "data": {
      "text/plain": [
       "(1460, 2)"
      ]
     },
     "execution_count": 25,
     "metadata": {},
     "output_type": "execute_result"
    }
   ],
   "source": [
    "housing.shape\n"
   ]
  },
  {
   "cell_type": "code",
   "execution_count": 26,
   "id": "8fecde93",
   "metadata": {},
   "outputs": [],
   "source": [
    "X_train, X_test, y_train, y_test = train_test_split(housing[['YrSold']], housing.SaleCondition, test_size = 0.2)"
   ]
  },
  {
   "cell_type": "code",
   "execution_count": 27,
   "id": "c9c80728",
   "metadata": {},
   "outputs": [
    {
     "data": {
      "text/html": [
       "<div>\n",
       "<style scoped>\n",
       "    .dataframe tbody tr th:only-of-type {\n",
       "        vertical-align: middle;\n",
       "    }\n",
       "\n",
       "    .dataframe tbody tr th {\n",
       "        vertical-align: top;\n",
       "    }\n",
       "\n",
       "    .dataframe thead th {\n",
       "        text-align: right;\n",
       "    }\n",
       "</style>\n",
       "<table border=\"1\" class=\"dataframe\">\n",
       "  <thead>\n",
       "    <tr style=\"text-align: right;\">\n",
       "      <th></th>\n",
       "      <th>YrSold</th>\n",
       "    </tr>\n",
       "  </thead>\n",
       "  <tbody>\n",
       "    <tr>\n",
       "      <th>1358</th>\n",
       "      <td>2010</td>\n",
       "    </tr>\n",
       "    <tr>\n",
       "      <th>277</th>\n",
       "      <td>2010</td>\n",
       "    </tr>\n",
       "    <tr>\n",
       "      <th>1168</th>\n",
       "      <td>2008</td>\n",
       "    </tr>\n",
       "    <tr>\n",
       "      <th>96</th>\n",
       "      <td>2006</td>\n",
       "    </tr>\n",
       "    <tr>\n",
       "      <th>664</th>\n",
       "      <td>2006</td>\n",
       "    </tr>\n",
       "    <tr>\n",
       "      <th>...</th>\n",
       "      <td>...</td>\n",
       "    </tr>\n",
       "    <tr>\n",
       "      <th>527</th>\n",
       "      <td>2008</td>\n",
       "    </tr>\n",
       "    <tr>\n",
       "      <th>1118</th>\n",
       "      <td>2008</td>\n",
       "    </tr>\n",
       "    <tr>\n",
       "      <th>756</th>\n",
       "      <td>2009</td>\n",
       "    </tr>\n",
       "    <tr>\n",
       "      <th>474</th>\n",
       "      <td>2007</td>\n",
       "    </tr>\n",
       "    <tr>\n",
       "      <th>455</th>\n",
       "      <td>2007</td>\n",
       "    </tr>\n",
       "  </tbody>\n",
       "</table>\n",
       "<p>292 rows × 1 columns</p>\n",
       "</div>"
      ],
      "text/plain": [
       "      YrSold\n",
       "1358    2010\n",
       "277     2010\n",
       "1168    2008\n",
       "96      2006\n",
       "664     2006\n",
       "...      ...\n",
       "527     2008\n",
       "1118    2008\n",
       "756     2009\n",
       "474     2007\n",
       "455     2007\n",
       "\n",
       "[292 rows x 1 columns]"
      ]
     },
     "execution_count": 27,
     "metadata": {},
     "output_type": "execute_result"
    }
   ],
   "source": [
    "X_test"
   ]
  },
  {
   "cell_type": "code",
   "execution_count": 28,
   "id": "2054e810",
   "metadata": {},
   "outputs": [],
   "source": [
    "from sklearn.linear_model import LogisticRegression"
   ]
  },
  {
   "cell_type": "code",
   "execution_count": 29,
   "id": "be5b23ea",
   "metadata": {},
   "outputs": [],
   "source": [
    "model = LogisticRegression()"
   ]
  },
  {
   "cell_type": "code",
   "execution_count": 30,
   "id": "bc3690f4",
   "metadata": {},
   "outputs": [
    {
     "data": {
      "text/plain": [
       "LogisticRegression()"
      ]
     },
     "execution_count": 30,
     "metadata": {},
     "output_type": "execute_result"
    }
   ],
   "source": [
    "model.fit(X_train, y_train)"
   ]
  },
  {
   "cell_type": "code",
   "execution_count": 31,
   "id": "7df170a2",
   "metadata": {},
   "outputs": [
    {
     "data": {
      "text/plain": [
       "array([0, 0, 0, 0, 0, 0, 0, 0, 0, 0, 0, 0, 0, 0, 0, 0, 0, 0, 0, 0, 0, 0,\n",
       "       0, 0, 0, 0, 0, 0, 0, 0, 0, 0, 0, 0, 0, 0, 0, 0, 0, 0, 0, 0, 0, 0,\n",
       "       0, 0, 0, 0, 0, 0, 0, 0, 0, 0, 0, 0, 0, 0, 0, 0, 0, 0, 0, 0, 0, 0,\n",
       "       0, 0, 0, 0, 0, 0, 0, 0, 0, 0, 0, 0, 0, 0, 0, 0, 0, 0, 0, 0, 0, 0,\n",
       "       0, 0, 0, 0, 0, 0, 0, 0, 0, 0, 0, 0, 0, 0, 0, 0, 0, 0, 0, 0, 0, 0,\n",
       "       0, 0, 0, 0, 0, 0, 0, 0, 0, 0, 0, 0, 0, 0, 0, 0, 0, 0, 0, 0, 0, 0,\n",
       "       0, 0, 0, 0, 0, 0, 0, 0, 0, 0, 0, 0, 0, 0, 0, 0, 0, 0, 0, 0, 0, 0,\n",
       "       0, 0, 0, 0, 0, 0, 0, 0, 0, 0, 0, 0, 0, 0, 0, 0, 0, 0, 0, 0, 0, 0,\n",
       "       0, 0, 0, 0, 0, 0, 0, 0, 0, 0, 0, 0, 0, 0, 0, 0, 0, 0, 0, 0, 0, 0,\n",
       "       0, 0, 0, 0, 0, 0, 0, 0, 0, 0, 0, 0, 0, 0, 0, 0, 0, 0, 0, 0, 0, 0,\n",
       "       0, 0, 0, 0, 0, 0, 0, 0, 0, 0, 0, 0, 0, 0, 0, 0, 0, 0, 0, 0, 0, 0,\n",
       "       0, 0, 0, 0, 0, 0, 0, 0, 0, 0, 0, 0, 0, 0, 0, 0, 0, 0, 0, 0, 0, 0,\n",
       "       0, 0, 0, 0, 0, 0, 0, 0, 0, 0, 0, 0, 0, 0, 0, 0, 0, 0, 0, 0, 0, 0,\n",
       "       0, 0, 0, 0, 0, 0])"
      ]
     },
     "execution_count": 31,
     "metadata": {},
     "output_type": "execute_result"
    }
   ],
   "source": [
    "model.predict(X_test)"
   ]
  },
  {
   "cell_type": "code",
   "execution_count": 32,
   "id": "e5ed69ea",
   "metadata": {},
   "outputs": [
    {
     "data": {
      "text/plain": [
       "0.8287671232876712"
      ]
     },
     "execution_count": 32,
     "metadata": {},
     "output_type": "execute_result"
    }
   ],
   "source": [
    "model.score(X_test, y_test)\n",
    "\n",
    "#tells you the accuracy of your model, the closer to 1 te better"
   ]
  },
  {
   "cell_type": "code",
   "execution_count": 33,
   "id": "61d23217",
   "metadata": {},
   "outputs": [
    {
     "data": {
      "text/plain": [
       "array([[0.81877339, 0.18122661],\n",
       "       [0.81877339, 0.18122661],\n",
       "       [0.81855063, 0.18144937],\n",
       "       [0.81832765, 0.18167235],\n",
       "       [0.81832765, 0.18167235],\n",
       "       [0.81832765, 0.18167235],\n",
       "       [0.81855063, 0.18144937],\n",
       "       [0.81866204, 0.18133796],\n",
       "       [0.81832765, 0.18167235],\n",
       "       [0.81832765, 0.18167235],\n",
       "       [0.81866204, 0.18133796],\n",
       "       [0.81866204, 0.18133796],\n",
       "       [0.81866204, 0.18133796],\n",
       "       [0.81832765, 0.18167235],\n",
       "       [0.81855063, 0.18144937],\n",
       "       [0.81843917, 0.18156083],\n",
       "       [0.81832765, 0.18167235],\n",
       "       [0.81832765, 0.18167235],\n",
       "       [0.81855063, 0.18144937],\n",
       "       [0.81832765, 0.18167235],\n",
       "       [0.81843917, 0.18156083],\n",
       "       [0.81877339, 0.18122661],\n",
       "       [0.81843917, 0.18156083],\n",
       "       [0.81866204, 0.18133796],\n",
       "       [0.81877339, 0.18122661],\n",
       "       [0.81832765, 0.18167235],\n",
       "       [0.81832765, 0.18167235],\n",
       "       [0.81855063, 0.18144937],\n",
       "       [0.81877339, 0.18122661],\n",
       "       [0.81843917, 0.18156083],\n",
       "       [0.81843917, 0.18156083],\n",
       "       [0.81855063, 0.18144937],\n",
       "       [0.81855063, 0.18144937],\n",
       "       [0.81866204, 0.18133796],\n",
       "       [0.81855063, 0.18144937],\n",
       "       [0.81855063, 0.18144937],\n",
       "       [0.81855063, 0.18144937],\n",
       "       [0.81832765, 0.18167235],\n",
       "       [0.81866204, 0.18133796],\n",
       "       [0.81855063, 0.18144937],\n",
       "       [0.81843917, 0.18156083],\n",
       "       [0.81832765, 0.18167235],\n",
       "       [0.81866204, 0.18133796],\n",
       "       [0.81843917, 0.18156083],\n",
       "       [0.81843917, 0.18156083],\n",
       "       [0.81843917, 0.18156083],\n",
       "       [0.81843917, 0.18156083],\n",
       "       [0.81855063, 0.18144937],\n",
       "       [0.81832765, 0.18167235],\n",
       "       [0.81832765, 0.18167235],\n",
       "       [0.81832765, 0.18167235],\n",
       "       [0.81855063, 0.18144937],\n",
       "       [0.81866204, 0.18133796],\n",
       "       [0.81832765, 0.18167235],\n",
       "       [0.81866204, 0.18133796],\n",
       "       [0.81832765, 0.18167235],\n",
       "       [0.81832765, 0.18167235],\n",
       "       [0.81832765, 0.18167235],\n",
       "       [0.81855063, 0.18144937],\n",
       "       [0.81843917, 0.18156083],\n",
       "       [0.81866204, 0.18133796],\n",
       "       [0.81843917, 0.18156083],\n",
       "       [0.81866204, 0.18133796],\n",
       "       [0.81843917, 0.18156083],\n",
       "       [0.81832765, 0.18167235],\n",
       "       [0.81866204, 0.18133796],\n",
       "       [0.81877339, 0.18122661],\n",
       "       [0.81843917, 0.18156083],\n",
       "       [0.81843917, 0.18156083],\n",
       "       [0.81877339, 0.18122661],\n",
       "       [0.81855063, 0.18144937],\n",
       "       [0.81877339, 0.18122661],\n",
       "       [0.81832765, 0.18167235],\n",
       "       [0.81855063, 0.18144937],\n",
       "       [0.81843917, 0.18156083],\n",
       "       [0.81877339, 0.18122661],\n",
       "       [0.81843917, 0.18156083],\n",
       "       [0.81832765, 0.18167235],\n",
       "       [0.81877339, 0.18122661],\n",
       "       [0.81866204, 0.18133796],\n",
       "       [0.81832765, 0.18167235],\n",
       "       [0.81843917, 0.18156083],\n",
       "       [0.81855063, 0.18144937],\n",
       "       [0.81866204, 0.18133796],\n",
       "       [0.81866204, 0.18133796],\n",
       "       [0.81832765, 0.18167235],\n",
       "       [0.81866204, 0.18133796],\n",
       "       [0.81866204, 0.18133796],\n",
       "       [0.81866204, 0.18133796],\n",
       "       [0.81832765, 0.18167235],\n",
       "       [0.81855063, 0.18144937],\n",
       "       [0.81866204, 0.18133796],\n",
       "       [0.81866204, 0.18133796],\n",
       "       [0.81843917, 0.18156083],\n",
       "       [0.81843917, 0.18156083],\n",
       "       [0.81832765, 0.18167235],\n",
       "       [0.81866204, 0.18133796],\n",
       "       [0.81832765, 0.18167235],\n",
       "       [0.81866204, 0.18133796],\n",
       "       [0.81866204, 0.18133796],\n",
       "       [0.81832765, 0.18167235],\n",
       "       [0.81832765, 0.18167235],\n",
       "       [0.81855063, 0.18144937],\n",
       "       [0.81866204, 0.18133796],\n",
       "       [0.81877339, 0.18122661],\n",
       "       [0.81832765, 0.18167235],\n",
       "       [0.81877339, 0.18122661],\n",
       "       [0.81866204, 0.18133796],\n",
       "       [0.81832765, 0.18167235],\n",
       "       [0.81855063, 0.18144937],\n",
       "       [0.81866204, 0.18133796],\n",
       "       [0.81866204, 0.18133796],\n",
       "       [0.81832765, 0.18167235],\n",
       "       [0.81877339, 0.18122661],\n",
       "       [0.81855063, 0.18144937],\n",
       "       [0.81866204, 0.18133796],\n",
       "       [0.81832765, 0.18167235],\n",
       "       [0.81866204, 0.18133796],\n",
       "       [0.81855063, 0.18144937],\n",
       "       [0.81832765, 0.18167235],\n",
       "       [0.81877339, 0.18122661],\n",
       "       [0.81843917, 0.18156083],\n",
       "       [0.81832765, 0.18167235],\n",
       "       [0.81855063, 0.18144937],\n",
       "       [0.81855063, 0.18144937],\n",
       "       [0.81832765, 0.18167235],\n",
       "       [0.81877339, 0.18122661],\n",
       "       [0.81843917, 0.18156083],\n",
       "       [0.81877339, 0.18122661],\n",
       "       [0.81866204, 0.18133796],\n",
       "       [0.81855063, 0.18144937],\n",
       "       [0.81843917, 0.18156083],\n",
       "       [0.81866204, 0.18133796],\n",
       "       [0.81855063, 0.18144937],\n",
       "       [0.81832765, 0.18167235],\n",
       "       [0.81832765, 0.18167235],\n",
       "       [0.81832765, 0.18167235],\n",
       "       [0.81866204, 0.18133796],\n",
       "       [0.81832765, 0.18167235],\n",
       "       [0.81832765, 0.18167235],\n",
       "       [0.81855063, 0.18144937],\n",
       "       [0.81855063, 0.18144937],\n",
       "       [0.81843917, 0.18156083],\n",
       "       [0.81855063, 0.18144937],\n",
       "       [0.81866204, 0.18133796],\n",
       "       [0.81877339, 0.18122661],\n",
       "       [0.81866204, 0.18133796],\n",
       "       [0.81843917, 0.18156083],\n",
       "       [0.81855063, 0.18144937],\n",
       "       [0.81855063, 0.18144937],\n",
       "       [0.81832765, 0.18167235],\n",
       "       [0.81866204, 0.18133796],\n",
       "       [0.81832765, 0.18167235],\n",
       "       [0.81855063, 0.18144937],\n",
       "       [0.81832765, 0.18167235],\n",
       "       [0.81855063, 0.18144937],\n",
       "       [0.81843917, 0.18156083],\n",
       "       [0.81832765, 0.18167235],\n",
       "       [0.81855063, 0.18144937],\n",
       "       [0.81866204, 0.18133796],\n",
       "       [0.81832765, 0.18167235],\n",
       "       [0.81877339, 0.18122661],\n",
       "       [0.81832765, 0.18167235],\n",
       "       [0.81855063, 0.18144937],\n",
       "       [0.81866204, 0.18133796],\n",
       "       [0.81866204, 0.18133796],\n",
       "       [0.81832765, 0.18167235],\n",
       "       [0.81866204, 0.18133796],\n",
       "       [0.81855063, 0.18144937],\n",
       "       [0.81855063, 0.18144937],\n",
       "       [0.81843917, 0.18156083],\n",
       "       [0.81855063, 0.18144937],\n",
       "       [0.81866204, 0.18133796],\n",
       "       [0.81843917, 0.18156083],\n",
       "       [0.81877339, 0.18122661],\n",
       "       [0.81832765, 0.18167235],\n",
       "       [0.81832765, 0.18167235],\n",
       "       [0.81843917, 0.18156083],\n",
       "       [0.81866204, 0.18133796],\n",
       "       [0.81832765, 0.18167235],\n",
       "       [0.81832765, 0.18167235],\n",
       "       [0.81855063, 0.18144937],\n",
       "       [0.81832765, 0.18167235],\n",
       "       [0.81843917, 0.18156083],\n",
       "       [0.81843917, 0.18156083],\n",
       "       [0.81866204, 0.18133796],\n",
       "       [0.81866204, 0.18133796],\n",
       "       [0.81832765, 0.18167235],\n",
       "       [0.81866204, 0.18133796],\n",
       "       [0.81866204, 0.18133796],\n",
       "       [0.81832765, 0.18167235],\n",
       "       [0.81866204, 0.18133796],\n",
       "       [0.81855063, 0.18144937],\n",
       "       [0.81843917, 0.18156083],\n",
       "       [0.81855063, 0.18144937],\n",
       "       [0.81877339, 0.18122661],\n",
       "       [0.81843917, 0.18156083],\n",
       "       [0.81866204, 0.18133796],\n",
       "       [0.81855063, 0.18144937],\n",
       "       [0.81843917, 0.18156083],\n",
       "       [0.81877339, 0.18122661],\n",
       "       [0.81843917, 0.18156083],\n",
       "       [0.81832765, 0.18167235],\n",
       "       [0.81843917, 0.18156083],\n",
       "       [0.81843917, 0.18156083],\n",
       "       [0.81843917, 0.18156083],\n",
       "       [0.81866204, 0.18133796],\n",
       "       [0.81855063, 0.18144937],\n",
       "       [0.81832765, 0.18167235],\n",
       "       [0.81866204, 0.18133796],\n",
       "       [0.81832765, 0.18167235],\n",
       "       [0.81877339, 0.18122661],\n",
       "       [0.81866204, 0.18133796],\n",
       "       [0.81832765, 0.18167235],\n",
       "       [0.81866204, 0.18133796],\n",
       "       [0.81866204, 0.18133796],\n",
       "       [0.81866204, 0.18133796],\n",
       "       [0.81855063, 0.18144937],\n",
       "       [0.81843917, 0.18156083],\n",
       "       [0.81866204, 0.18133796],\n",
       "       [0.81866204, 0.18133796],\n",
       "       [0.81866204, 0.18133796],\n",
       "       [0.81832765, 0.18167235],\n",
       "       [0.81877339, 0.18122661],\n",
       "       [0.81843917, 0.18156083],\n",
       "       [0.81843917, 0.18156083],\n",
       "       [0.81866204, 0.18133796],\n",
       "       [0.81855063, 0.18144937],\n",
       "       [0.81877339, 0.18122661],\n",
       "       [0.81843917, 0.18156083],\n",
       "       [0.81843917, 0.18156083],\n",
       "       [0.81832765, 0.18167235],\n",
       "       [0.81855063, 0.18144937],\n",
       "       [0.81832765, 0.18167235],\n",
       "       [0.81843917, 0.18156083],\n",
       "       [0.81866204, 0.18133796],\n",
       "       [0.81855063, 0.18144937],\n",
       "       [0.81832765, 0.18167235],\n",
       "       [0.81866204, 0.18133796],\n",
       "       [0.81866204, 0.18133796],\n",
       "       [0.81843917, 0.18156083],\n",
       "       [0.81832765, 0.18167235],\n",
       "       [0.81866204, 0.18133796],\n",
       "       [0.81855063, 0.18144937],\n",
       "       [0.81866204, 0.18133796],\n",
       "       [0.81866204, 0.18133796],\n",
       "       [0.81855063, 0.18144937],\n",
       "       [0.81866204, 0.18133796],\n",
       "       [0.81855063, 0.18144937],\n",
       "       [0.81877339, 0.18122661],\n",
       "       [0.81855063, 0.18144937],\n",
       "       [0.81832765, 0.18167235],\n",
       "       [0.81855063, 0.18144937],\n",
       "       [0.81866204, 0.18133796],\n",
       "       [0.81866204, 0.18133796],\n",
       "       [0.81855063, 0.18144937],\n",
       "       [0.81832765, 0.18167235],\n",
       "       [0.81866204, 0.18133796],\n",
       "       [0.81877339, 0.18122661],\n",
       "       [0.81843917, 0.18156083],\n",
       "       [0.81866204, 0.18133796],\n",
       "       [0.81855063, 0.18144937],\n",
       "       [0.81866204, 0.18133796],\n",
       "       [0.81877339, 0.18122661],\n",
       "       [0.81855063, 0.18144937],\n",
       "       [0.81855063, 0.18144937],\n",
       "       [0.81843917, 0.18156083],\n",
       "       [0.81855063, 0.18144937],\n",
       "       [0.81866204, 0.18133796],\n",
       "       [0.81866204, 0.18133796],\n",
       "       [0.81877339, 0.18122661],\n",
       "       [0.81832765, 0.18167235],\n",
       "       [0.81877339, 0.18122661],\n",
       "       [0.81832765, 0.18167235],\n",
       "       [0.81843917, 0.18156083],\n",
       "       [0.81855063, 0.18144937],\n",
       "       [0.81866204, 0.18133796],\n",
       "       [0.81843917, 0.18156083],\n",
       "       [0.81832765, 0.18167235],\n",
       "       [0.81877339, 0.18122661],\n",
       "       [0.81843917, 0.18156083],\n",
       "       [0.81843917, 0.18156083],\n",
       "       [0.81866204, 0.18133796],\n",
       "       [0.81843917, 0.18156083],\n",
       "       [0.81866204, 0.18133796],\n",
       "       [0.81866204, 0.18133796],\n",
       "       [0.81843917, 0.18156083],\n",
       "       [0.81855063, 0.18144937],\n",
       "       [0.81855063, 0.18144937],\n",
       "       [0.81866204, 0.18133796],\n",
       "       [0.81843917, 0.18156083],\n",
       "       [0.81843917, 0.18156083]])"
      ]
     },
     "execution_count": 33,
     "metadata": {},
     "output_type": "execute_result"
    }
   ],
   "source": [
    "model.predict_proba(X_test)\n",
    "\n",
    "#In the year of 2010 there is an 81 percent chance a normal condition house would have been sold."
   ]
  },
  {
   "cell_type": "code",
   "execution_count": null,
   "id": "9f84a3cd",
   "metadata": {},
   "outputs": [],
   "source": []
  }
 ],
 "metadata": {
  "kernelspec": {
   "display_name": "Python 3",
   "language": "python",
   "name": "python3"
  },
  "language_info": {
   "codemirror_mode": {
    "name": "ipython",
    "version": 3
   },
   "file_extension": ".py",
   "mimetype": "text/x-python",
   "name": "python",
   "nbconvert_exporter": "python",
   "pygments_lexer": "ipython3",
   "version": "3.8.8"
  }
 },
 "nbformat": 4,
 "nbformat_minor": 5
}
