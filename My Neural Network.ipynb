{
 "cells": [
  {
   "cell_type": "code",
   "execution_count": 4,
   "id": "34af91d4",
   "metadata": {},
   "outputs": [],
   "source": [
    "#This will be a Neural Network without any hidden layers aka Perceptron.\n",
    "import numpy as np"
   ]
  },
  {
   "cell_type": "code",
   "execution_count": 11,
   "id": "d720a64b",
   "metadata": {},
   "outputs": [],
   "source": [
    "#define the sigmoid function\n",
    "#define the sigmoid derivative to calculate the adjustment\n",
    "def sigmoid(x):\n",
    "    return 1 / (1 + np.exp(-x))\n",
    "\n",
    "def sigmoid_derivative(x):\n",
    "    return x * (1 - x)"
   ]
  },
  {
   "cell_type": "code",
   "execution_count": 12,
   "id": "91615549",
   "metadata": {},
   "outputs": [],
   "source": [
    "#Defining the training example, here with the inputs\n",
    "\n",
    "training_inputs =np.array([[0,0,1],\n",
    "                           [1,1,1],\n",
    "                           [1,0,1],\n",
    "                           [0,1,1]])"
   ]
  },
  {
   "cell_type": "code",
   "execution_count": 13,
   "id": "802c0c72",
   "metadata": {},
   "outputs": [
    {
     "name": "stdout",
     "output_type": "stream",
     "text": [
      "Random starting synaptic weights: \n",
      "[[-0.16595599]\n",
      " [ 0.44064899]\n",
      " [-0.99977125]]\n",
      "Synapticweights after training\n",
      "[[10.38040701]\n",
      " [-0.20641179]\n",
      " [-4.98452047]]\n",
      "Outputs after training: \n",
      "[[0.00679672]\n",
      " [0.99445583]\n",
      " [0.99548516]\n",
      " [0.00553614]]\n"
     ]
    }
   ],
   "source": [
    "#Here will be the training outputs, also transpose it to become a 4x1 matrix\n",
    "\n",
    "training_outputs = np.array([[0,1,1,0]]).T\n",
    "\n",
    "#initialize the weights by assigning a random value\n",
    "\n",
    "np.random.seed(1)\n",
    "\n",
    "#3x1 matrix because we have 3 inputs and 1 output value these will be random values from -1 to 1 with a mean of 0\n",
    "synaptic_weights = 2 * np.random.random((3, 1)) -1\n",
    "\n",
    "print('Random starting synaptic weights: ')\n",
    "print(synaptic_weights)\n",
    "\n",
    "#Here will be the for loop, keep in mid np.dot is element wise multiplication mtarices\n",
    "for iteration in range(20000):\n",
    "    \n",
    "    input_layer = training_inputs\n",
    "    \n",
    "    outputs = sigmoid(np.dot(input_layer, synaptic_weights))\n",
    "    \n",
    "    error = training_outputs - outputs\n",
    "    \n",
    "    adjustments = error * sigmoid_derivative(outputs)\n",
    "    \n",
    "    synaptic_weights += np.dot(input_layer.T, adjustments)\n",
    "    \n",
    "#print the synpatic weights after training\n",
    "print('Synapticweights after training')\n",
    "print(synaptic_weights)\n",
    "    \n",
    "print('Outputs after training: ')\n",
    "print(outputs)"
   ]
  },
  {
   "cell_type": "code",
   "execution_count": null,
   "id": "3f2ff97f",
   "metadata": {},
   "outputs": [],
   "source": []
  }
 ],
 "metadata": {
  "kernelspec": {
   "display_name": "Python 3",
   "language": "python",
   "name": "python3"
  },
  "language_info": {
   "codemirror_mode": {
    "name": "ipython",
    "version": 3
   },
   "file_extension": ".py",
   "mimetype": "text/x-python",
   "name": "python",
   "nbconvert_exporter": "python",
   "pygments_lexer": "ipython3",
   "version": "3.8.8"
  }
 },
 "nbformat": 4,
 "nbformat_minor": 5
}
